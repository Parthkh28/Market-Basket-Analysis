{
  "nbformat": 4,
  "nbformat_minor": 0,
  "metadata": {
    "colab": {
      "provenance": [],
      "collapsed_sections": []
    },
    "kernelspec": {
      "name": "python3",
      "display_name": "Python 3"
    }
  },
  "cells": [
    {
      "cell_type": "markdown",
      "metadata": {
        "id": "1fziHl7Ar94J"
      },
      "source": [
        "# Eclat"
      ]
    },
    {
      "cell_type": "markdown",
      "metadata": {
        "id": "eiNwni1xsEgT"
      },
      "source": [
        "## Importing the libraries"
      ]
    },
    {
      "cell_type": "code",
      "metadata": {
        "id": "DUF77Qr1vqyM",
        "outputId": "f87c4e63-0fc4-4d51-8cc4-996bea9a4f8a",
        "colab": {
          "base_uri": "https://localhost:8080/"
        }
      },
      "source": [
        "!pip install apyori"
      ],
      "execution_count": 14,
      "outputs": [
        {
          "output_type": "stream",
          "name": "stdout",
          "text": [
            "Looking in indexes: https://pypi.org/simple, https://us-python.pkg.dev/colab-wheels/public/simple/\n",
            "Requirement already satisfied: apyori in /usr/local/lib/python3.7/dist-packages (1.1.2)\n"
          ]
        }
      ]
    },
    {
      "cell_type": "code",
      "metadata": {
        "id": "UJfitBClsJlT"
      },
      "source": [
        "import numpy as np\n",
        "import matplotlib.pyplot as plt\n",
        "import pandas as pd"
      ],
      "execution_count": 15,
      "outputs": []
    },
    {
      "cell_type": "markdown",
      "metadata": {
        "id": "vLt-7XUKsXBd"
      },
      "source": [
        "## Data Preprocessing"
      ]
    },
    {
      "cell_type": "code",
      "metadata": {
        "id": "J_A-UFOAsaDf",
        "colab": {
          "base_uri": "https://localhost:8080/"
        },
        "outputId": "4f430982-addf-42a6-edde-2e232c73566b"
      },
      "source": [
        "dataset = pd.read_csv('marketbasket.csv', header = None)\n",
        "transactions = []\n",
        "for i in range(0, 20689):\n",
        "  transactions.append([str(dataset.values[i,j]) for j in range(0, 30)])"
      ],
      "execution_count": 17,
      "outputs": [
        {
          "output_type": "stream",
          "name": "stderr",
          "text": [
            "/usr/local/lib/python3.7/dist-packages/IPython/core/interactiveshell.py:3326: DtypeWarning: Columns (59,60,61,62,63,64,65,66,67,68,69,70,71) have mixed types.Specify dtype option on import or set low_memory=False.\n",
            "  exec(code_obj, self.user_global_ns, self.user_ns)\n"
          ]
        }
      ]
    },
    {
      "cell_type": "markdown",
      "metadata": {
        "id": "1wYZdBd5sea_"
      },
      "source": [
        "## Training the Eclat model on the dataset"
      ]
    },
    {
      "cell_type": "code",
      "metadata": {
        "id": "YzIk4vXZsj5i"
      },
      "source": [
        "from apyori import apriori\n",
        "rules = apriori(transactions = transactions, min_support = 0.008, min_confidence = 0.2, min_lift = 3, min_length = 2, max_length = 2)"
      ],
      "execution_count": 18,
      "outputs": []
    },
    {
      "cell_type": "markdown",
      "metadata": {
        "id": "b176YNwWspiO"
      },
      "source": [
        "## Visualising the results"
      ]
    },
    {
      "cell_type": "markdown",
      "metadata": {
        "id": "iO6bF_dImT-E"
      },
      "source": [
        "### Displaying the first results coming directly from the output of the apriori function"
      ]
    },
    {
      "cell_type": "code",
      "metadata": {
        "id": "kvF-sLc6ifhd"
      },
      "source": [
        "results = list(rules)"
      ],
      "execution_count": 19,
      "outputs": []
    },
    {
      "cell_type": "code",
      "metadata": {
        "id": "eAD8Co4_l9IE",
        "outputId": "6fbb3742-01de-42dd-e018-c195f9726cbd",
        "colab": {
          "base_uri": "https://localhost:8080/"
        }
      },
      "source": [
        "results"
      ],
      "execution_count": null,
      "outputs": [
        {
          "output_type": "execute_result",
          "data": {
            "text/plain": [
              "[RelationRecord(items=frozenset({'CHIKEN SPICES', 'BENNY CHICKEN POWDER'}), support=0.01145536275315385, ordered_statistics=[OrderedStatistic(items_base=frozenset({'BENNY CHICKEN POWDER'}), items_add=frozenset({'CHIKEN SPICES'}), confidence=0.2576086956521739, lift=11.388175863991082), OrderedStatistic(items_base=frozenset({'CHIKEN SPICES'}), items_add=frozenset({'BENNY CHICKEN POWDER'}), confidence=0.5064102564102564, lift=11.38817586399108)]),\n",
              " RelationRecord(items=frozenset({'DUCROS CURRY POWDER', 'BENNY CHICKEN POWDER'}), support=0.008458601189037653, ordered_statistics=[OrderedStatistic(items_base=frozenset({'DUCROS CURRY POWDER'}), items_add=frozenset({'BENNY CHICKEN POWDER'}), confidence=0.30017152658662094, lift=6.75027034081587)]),\n",
              " RelationRecord(items=frozenset({'BENNY CHICKEN POWDER', 'DUCROS THYME'}), support=0.006186862583981826, ordered_statistics=[OrderedStatistic(items_base=frozenset({'DUCROS THYME'}), items_add=frozenset({'BENNY CHICKEN POWDER'}), confidence=0.3404255319148936, lift=7.6555041628122105)]),\n",
              " RelationRecord(items=frozenset({'BENNY CHICKEN POWDER', 'FORTUNE SOYA 1LTR'}), support=0.008748610372661801, ordered_statistics=[OrderedStatistic(items_base=frozenset({'FORTUNE SOYA 1LTR'}), items_add=frozenset({'BENNY CHICKEN POWDER'}), confidence=0.20428893905191875, lift=4.594058543527334)]),\n",
              " RelationRecord(items=frozenset({'GINO CURRY POWDER', 'BENNY CHICKEN POWDER'}), support=0.006428536903668616, ordered_statistics=[OrderedStatistic(items_base=frozenset({'GINO CURRY POWDER'}), items_add=frozenset({'BENNY CHICKEN POWDER'}), confidence=0.38328530259365995, lift=8.619336549304599)]),\n",
              " RelationRecord(items=frozenset({'GINO DRIED THYME', 'BENNY CHICKEN POWDER'}), support=0.0063318671757939, ordered_statistics=[OrderedStatistic(items_base=frozenset({'GINO DRIED THYME'}), items_add=frozenset({'BENNY CHICKEN POWDER'}), confidence=0.3550135501355014, lift=7.9835601508189)]),\n",
              " RelationRecord(items=frozenset({'BENNY CHICKEN POWDER', 'SPICITY SEASONING POWDER'}), support=0.012712069215525158, ordered_statistics=[OrderedStatistic(items_base=frozenset({'BENNY CHICKEN POWDER'}), items_add=frozenset({'SPICITY SEASONING POWDER'}), confidence=0.28586956521739126, lift=9.169543309740478), OrderedStatistic(items_base=frozenset({'SPICITY SEASONING POWDER'}), items_add=frozenset({'BENNY CHICKEN POWDER'}), confidence=0.4077519379844961, lift=9.169543309740478)]),\n",
              " RelationRecord(items=frozenset({'BITTER LEAF', 'CRAY FISH (S)'}), support=0.009666972787471603, ordered_statistics=[OrderedStatistic(items_base=frozenset({'BITTER LEAF'}), items_add=frozenset({'CRAY FISH (S)'}), confidence=0.31545741324921134, lift=5.3408334064753955)]),\n",
              " RelationRecord(items=frozenset({'EGGUSI', 'BITTER LEAF'}), support=0.005268500169172023, ordered_statistics=[OrderedStatistic(items_base=frozenset({'EGGUSI'}), items_add=frozenset({'BITTER LEAF'}), confidence=0.3538961038961039, lift=11.548511819410873)]),\n",
              " RelationRecord(items=frozenset({'BITTER LEAF', 'FISH FRY'}), support=0.009376963603847455, ordered_statistics=[OrderedStatistic(items_base=frozenset({'BITTER LEAF'}), items_add=frozenset({'FISH FRY'}), confidence=0.305993690851735, lift=7.002990564194187), OrderedStatistic(items_base=frozenset({'FISH FRY'}), items_add=frozenset({'BITTER LEAF'}), confidence=0.2146017699115044, lift=7.002990564194187)]),\n",
              " RelationRecord(items=frozenset({'BITTER LEAF', 'OGBONO'}), support=0.006380202039731258, ordered_statistics=[OrderedStatistic(items_base=frozenset({'BITTER LEAF'}), items_add=frozenset({'OGBONO'}), confidence=0.20820189274447948, lift=8.597782353274523), OrderedStatistic(items_base=frozenset({'OGBONO'}), items_add=frozenset({'BITTER LEAF'}), confidence=0.26347305389221554, lift=8.597782353274523)]),\n",
              " RelationRecord(items=frozenset({'BITTER LEAF', 'RED OIL 250ML'}), support=0.008410266325100295, ordered_statistics=[OrderedStatistic(items_base=frozenset({'BITTER LEAF'}), items_add=frozenset({'RED OIL 250ML'}), confidence=0.2744479495268139, lift=9.416341007894284), OrderedStatistic(items_base=frozenset({'RED OIL 250ML'}), items_add=frozenset({'BITTER LEAF'}), confidence=0.2885572139303483, lift=9.416341007894284)]),\n",
              " RelationRecord(items=frozenset({'CHIKEN SPICES', 'SPICITY SEASONING POWDER'}), support=0.006525206631543332, ordered_statistics=[OrderedStatistic(items_base=frozenset({'CHIKEN SPICES'}), items_add=frozenset({'SPICITY SEASONING POWDER'}), confidence=0.28846153846153844, lift=9.252683363148478), OrderedStatistic(items_base=frozenset({'SPICITY SEASONING POWDER'}), items_add=frozenset({'CHIKEN SPICES'}), confidence=0.20930232558139533, lift=9.252683363148478)]),\n",
              " RelationRecord(items=frozenset({'CRAY FISH (B)', 'FISH FRY'}), support=0.008990284692348591, ordered_statistics=[OrderedStatistic(items_base=frozenset({'CRAY FISH (B)'}), items_add=frozenset({'FISH FRY'}), confidence=0.23048327137546468, lift=5.274854426423659), OrderedStatistic(items_base=frozenset({'FISH FRY'}), items_add=frozenset({'CRAY FISH (B)'}), confidence=0.20575221238938052, lift=5.274854426423659)]),\n",
              " RelationRecord(items=frozenset({'FISH FRY', 'CRAY FISH (S)'}), support=0.011020348977717628, ordered_statistics=[OrderedStatistic(items_base=frozenset({'FISH FRY'}), items_add=frozenset({'CRAY FISH (S)'}), confidence=0.252212389380531, lift=4.270067204495749)]),\n",
              " RelationRecord(items=frozenset({'KNORR CHICKEN CUBES (5 PCS)', 'CRAY FISH (S)'}), support=0.007926917685726715, ordered_statistics=[OrderedStatistic(items_base=frozenset({'KNORR CHICKEN CUBES (5 PCS)'}), items_add=frozenset({'CRAY FISH (S)'}), confidence=0.20000000000000004, lift=3.3860883797054018)]),\n",
              " RelationRecord(items=frozenset({'OGBONO', 'CRAY FISH (S)'}), support=0.007443569046353135, ordered_statistics=[OrderedStatistic(items_base=frozenset({'OGBONO'}), items_add=frozenset({'CRAY FISH (S)'}), confidence=0.3073852295409181, lift=5.204167769207901)]),\n",
              " RelationRecord(items=frozenset({'RED OIL 250ML', 'CRAY FISH (S)'}), support=0.008748610372661801, ordered_statistics=[OrderedStatistic(items_base=frozenset({'RED OIL 250ML'}), items_add=frozenset({'CRAY FISH (S)'}), confidence=0.30016583747927034, lift=5.081940271365486)]),\n",
              " RelationRecord(items=frozenset({'DUCROS CURRY POWDER', 'DUCROS THYME'}), support=0.015177147276330417, ordered_statistics=[OrderedStatistic(items_base=frozenset({'DUCROS CURRY POWDER'}), items_add=frozenset({'DUCROS THYME'}), confidence=0.5385934819897085, lift=29.635533374694358), OrderedStatistic(items_base=frozenset({'DUCROS THYME'}), items_add=frozenset({'DUCROS CURRY POWDER'}), confidence=0.8351063829787234, lift=29.635533374694354)]),\n",
              " RelationRecord(items=frozenset({'DUCROS CURRY POWDER', 'FORTUNE SOYA 1LTR'}), support=0.006670211223355406, ordered_statistics=[OrderedStatistic(items_base=frozenset({'DUCROS CURRY POWDER'}), items_add=frozenset({'FORTUNE SOYA 1LTR'}), confidence=0.2367066895368782, lift=5.527341647661934)]),\n",
              " RelationRecord(items=frozenset({'DUCROS CURRY POWDER', 'SPICITY SEASONING POWDER'}), support=0.00609019285610711, ordered_statistics=[OrderedStatistic(items_base=frozenset({'DUCROS CURRY POWDER'}), items_add=frozenset({'SPICITY SEASONING POWDER'}), confidence=0.21612349914236706, lift=6.932370656986716)]),\n",
              " RelationRecord(items=frozenset({'FORTUNE SOYA 1LTR', 'DUCROS THYME'}), support=0.005026825849485233, ordered_statistics=[OrderedStatistic(items_base=frozenset({'DUCROS THYME'}), items_add=frozenset({'FORTUNE SOYA 1LTR'}), confidence=0.2765957446808511, lift=6.458791604629941)]),\n",
              " RelationRecord(items=frozenset({'FISH FRY', 'OGBONO'}), support=0.0063318671757939, ordered_statistics=[OrderedStatistic(items_base=frozenset({'OGBONO'}), items_add=frozenset({'FISH FRY'}), confidence=0.2614770459081836, lift=5.984179870347799)]),\n",
              " RelationRecord(items=frozenset({'FISH FRY', 'RED OIL 250ML'}), support=0.009376963603847455, ordered_statistics=[OrderedStatistic(items_base=frozenset({'FISH FRY'}), items_add=frozenset({'RED OIL 250ML'}), confidence=0.2146017699115044, lift=7.3630116379753145), OrderedStatistic(items_base=frozenset({'RED OIL 250ML'}), items_add=frozenset({'FISH FRY'}), confidence=0.32172470978441126, lift=7.3630116379753145)]),\n",
              " RelationRecord(items=frozenset({'KNORR CHICKEN CUBES (5 PCS)', 'FORTUNE SOYA 1LTR'}), support=0.00831359659722558, ordered_statistics=[OrderedStatistic(items_base=frozenset({'KNORR CHICKEN CUBES (5 PCS)'}), items_add=frozenset({'FORTUNE SOYA 1LTR'}), confidence=0.20975609756097563, lift=4.898017948576777)]),\n",
              " RelationRecord(items=frozenset({'RED OIL 250ML', 'FORTUNE SOYA 1LTR'}), support=0.005945188264295036, ordered_statistics=[OrderedStatistic(items_base=frozenset({'RED OIL 250ML'}), items_add=frozenset({'FORTUNE SOYA 1LTR'}), confidence=0.20398009950248758, lift=4.7631425266444305)]),\n",
              " RelationRecord(items=frozenset({'FORTUNE SOYA 1LTR', 'SPICITY SEASONING POWDER'}), support=0.006670211223355406, ordered_statistics=[OrderedStatistic(items_base=frozenset({'SPICITY SEASONING POWDER'}), items_add=frozenset({'FORTUNE SOYA 1LTR'}), confidence=0.213953488372093, lift=4.996031287731639)]),\n",
              " RelationRecord(items=frozenset({'GINO CURRY POWDER', 'GINO DRIED THYME'}), support=0.011117018705592344, ordered_statistics=[OrderedStatistic(items_base=frozenset({'GINO CURRY POWDER'}), items_add=frozenset({'GINO DRIED THYME'}), confidence=0.6628242074927955, lift=37.16306240872208), OrderedStatistic(items_base=frozenset({'GINO DRIED THYME'}), items_add=frozenset({'GINO CURRY POWDER'}), confidence=0.6233062330623307, lift=37.16306240872208)]),\n",
              " RelationRecord(items=frozenset({'GINO CURRY POWDER', 'SPICITY SEASONING POWDER'}), support=0.00560684421673353, ordered_statistics=[OrderedStatistic(items_base=frozenset({'GINO CURRY POWDER'}), items_add=frozenset({'SPICITY SEASONING POWDER'}), confidence=0.3342939481268012, lift=10.722802314411457)]),\n",
              " RelationRecord(items=frozenset({'GINO DRIED THYME', 'SPICITY SEASONING POWDER'}), support=0.006041857992169752, ordered_statistics=[OrderedStatistic(items_base=frozenset({'GINO DRIED THYME'}), items_add=frozenset({'SPICITY SEASONING POWDER'}), confidence=0.33875338753387535, lift=10.865843154555577)]),\n",
              " RelationRecord(items=frozenset({'KNORR CHICKEN CUBES (5 PCS)', 'RED OIL 250ML'}), support=0.00609019285610711, ordered_statistics=[OrderedStatistic(items_base=frozenset({'RED OIL 250ML'}), items_add=frozenset({'KNORR CHICKEN CUBES (5 PCS)'}), confidence=0.20895522388059704, lift=5.272042227884966)]),\n",
              " RelationRecord(items=frozenset({'LARSOR PEPPER SOUP', 'SPICES'}), support=0.00536516989704674, ordered_statistics=[OrderedStatistic(items_base=frozenset({'LARSOR PEPPER SOUP'}), items_add=frozenset({'SPICES'}), confidence=0.2720588235294118, lift=7.348074412532637)]),\n",
              " RelationRecord(items=frozenset({'RED OIL 250ML', 'OGBONO'}), support=0.00609019285610711, ordered_statistics=[OrderedStatistic(items_base=frozenset({'OGBONO'}), items_add=frozenset({'RED OIL 250ML'}), confidence=0.25149700598802394, lift=8.628891470789764), OrderedStatistic(items_base=frozenset({'RED OIL 250ML'}), items_add=frozenset({'OGBONO'}), confidence=0.20895522388059704, lift=8.628891470789764)]),\n",
              " RelationRecord(items=frozenset({'SAFA TOMATES PASTE 400GM', 'SPICITY SEASONING POWDER'}), support=0.005751848808545604, ordered_statistics=[OrderedStatistic(items_base=frozenset({'SAFA TOMATES PASTE 400GM'}), items_add=frozenset({'SPICITY SEASONING POWDER'}), confidence=0.3156498673740053, lift=10.124775358295807)])]"
            ]
          },
          "metadata": {},
          "execution_count": 6
        }
      ]
    },
    {
      "cell_type": "markdown",
      "metadata": {
        "id": "MFkQP-fcjDBC"
      },
      "source": [
        "### Putting the results well organised into a Pandas DataFrame"
      ]
    },
    {
      "cell_type": "code",
      "metadata": {
        "id": "gyq7Poi0mMUe"
      },
      "source": [
        "def inspect(results):\n",
        "    lhs         = [tuple(result[2][0][0])[0] for result in results]\n",
        "    rhs         = [tuple(result[2][0][1])[0] for result in results]\n",
        "    supports    = [result[1] for result in results]\n",
        "    return list(zip(lhs, rhs, supports))\n",
        "resultsinDataFrame = pd.DataFrame(inspect(results), columns = ['Product 1', 'Product 2', 'Support'])"
      ],
      "execution_count": 20,
      "outputs": []
    },
    {
      "cell_type": "markdown",
      "metadata": {
        "id": "IjrrlYW4jpTR"
      },
      "source": [
        "### Displaying the results sorted by descending supports"
      ]
    },
    {
      "cell_type": "code",
      "metadata": {
        "id": "nI7DJXng-nxQ",
        "outputId": "880fe817-5ba9-4849-83cc-84ac56310d29",
        "colab": {
          "base_uri": "https://localhost:8080/",
          "height": 488
        }
      },
      "source": [
        "resultsinDataFrame.nlargest(n = 20, columns = 'Support')"
      ],
      "execution_count": 21,
      "outputs": [
        {
          "output_type": "execute_result",
          "data": {
            "text/plain": [
              "                      Product 1                 Product 2   Support\n",
              "10          DUCROS CURRY POWDER              DUCROS THYME  0.015177\n",
              "3          BENNY CHICKEN POWDER  SPICITY SEASONING POWDER  0.012712\n",
              "0          BENNY CHICKEN POWDER             CHIKEN SPICES  0.011455\n",
              "13            GINO CURRY POWDER          GINO DRIED THYME  0.011117\n",
              "8                      FISH FRY             CRAY FISH (S)  0.011020\n",
              "4                   BITTER LEAF             CRAY FISH (S)  0.009667\n",
              "5                   BITTER LEAF                  FISH FRY  0.009377\n",
              "11                     FISH FRY             RED OIL 250ML  0.009377\n",
              "7                 CRAY FISH (B)                  FISH FRY  0.008990\n",
              "2             FORTUNE SOYA 1LTR      BENNY CHICKEN POWDER  0.008749\n",
              "9                 RED OIL 250ML             CRAY FISH (S)  0.008749\n",
              "1           DUCROS CURRY POWDER      BENNY CHICKEN POWDER  0.008459\n",
              "6                   BITTER LEAF             RED OIL 250ML  0.008410\n",
              "12  KNORR CHICKEN CUBES (5 PCS)         FORTUNE SOYA 1LTR  0.008314"
            ],
            "text/html": [
              "\n",
              "  <div id=\"df-0e9f630c-3110-4bc9-a02f-68f52b2f2bef\">\n",
              "    <div class=\"colab-df-container\">\n",
              "      <div>\n",
              "<style scoped>\n",
              "    .dataframe tbody tr th:only-of-type {\n",
              "        vertical-align: middle;\n",
              "    }\n",
              "\n",
              "    .dataframe tbody tr th {\n",
              "        vertical-align: top;\n",
              "    }\n",
              "\n",
              "    .dataframe thead th {\n",
              "        text-align: right;\n",
              "    }\n",
              "</style>\n",
              "<table border=\"1\" class=\"dataframe\">\n",
              "  <thead>\n",
              "    <tr style=\"text-align: right;\">\n",
              "      <th></th>\n",
              "      <th>Product 1</th>\n",
              "      <th>Product 2</th>\n",
              "      <th>Support</th>\n",
              "    </tr>\n",
              "  </thead>\n",
              "  <tbody>\n",
              "    <tr>\n",
              "      <th>10</th>\n",
              "      <td>DUCROS CURRY POWDER</td>\n",
              "      <td>DUCROS THYME</td>\n",
              "      <td>0.015177</td>\n",
              "    </tr>\n",
              "    <tr>\n",
              "      <th>3</th>\n",
              "      <td>BENNY CHICKEN POWDER</td>\n",
              "      <td>SPICITY SEASONING POWDER</td>\n",
              "      <td>0.012712</td>\n",
              "    </tr>\n",
              "    <tr>\n",
              "      <th>0</th>\n",
              "      <td>BENNY CHICKEN POWDER</td>\n",
              "      <td>CHIKEN SPICES</td>\n",
              "      <td>0.011455</td>\n",
              "    </tr>\n",
              "    <tr>\n",
              "      <th>13</th>\n",
              "      <td>GINO CURRY POWDER</td>\n",
              "      <td>GINO DRIED THYME</td>\n",
              "      <td>0.011117</td>\n",
              "    </tr>\n",
              "    <tr>\n",
              "      <th>8</th>\n",
              "      <td>FISH FRY</td>\n",
              "      <td>CRAY FISH (S)</td>\n",
              "      <td>0.011020</td>\n",
              "    </tr>\n",
              "    <tr>\n",
              "      <th>4</th>\n",
              "      <td>BITTER LEAF</td>\n",
              "      <td>CRAY FISH (S)</td>\n",
              "      <td>0.009667</td>\n",
              "    </tr>\n",
              "    <tr>\n",
              "      <th>5</th>\n",
              "      <td>BITTER LEAF</td>\n",
              "      <td>FISH FRY</td>\n",
              "      <td>0.009377</td>\n",
              "    </tr>\n",
              "    <tr>\n",
              "      <th>11</th>\n",
              "      <td>FISH FRY</td>\n",
              "      <td>RED OIL 250ML</td>\n",
              "      <td>0.009377</td>\n",
              "    </tr>\n",
              "    <tr>\n",
              "      <th>7</th>\n",
              "      <td>CRAY FISH (B)</td>\n",
              "      <td>FISH FRY</td>\n",
              "      <td>0.008990</td>\n",
              "    </tr>\n",
              "    <tr>\n",
              "      <th>2</th>\n",
              "      <td>FORTUNE SOYA 1LTR</td>\n",
              "      <td>BENNY CHICKEN POWDER</td>\n",
              "      <td>0.008749</td>\n",
              "    </tr>\n",
              "    <tr>\n",
              "      <th>9</th>\n",
              "      <td>RED OIL 250ML</td>\n",
              "      <td>CRAY FISH (S)</td>\n",
              "      <td>0.008749</td>\n",
              "    </tr>\n",
              "    <tr>\n",
              "      <th>1</th>\n",
              "      <td>DUCROS CURRY POWDER</td>\n",
              "      <td>BENNY CHICKEN POWDER</td>\n",
              "      <td>0.008459</td>\n",
              "    </tr>\n",
              "    <tr>\n",
              "      <th>6</th>\n",
              "      <td>BITTER LEAF</td>\n",
              "      <td>RED OIL 250ML</td>\n",
              "      <td>0.008410</td>\n",
              "    </tr>\n",
              "    <tr>\n",
              "      <th>12</th>\n",
              "      <td>KNORR CHICKEN CUBES (5 PCS)</td>\n",
              "      <td>FORTUNE SOYA 1LTR</td>\n",
              "      <td>0.008314</td>\n",
              "    </tr>\n",
              "  </tbody>\n",
              "</table>\n",
              "</div>\n",
              "      <button class=\"colab-df-convert\" onclick=\"convertToInteractive('df-0e9f630c-3110-4bc9-a02f-68f52b2f2bef')\"\n",
              "              title=\"Convert this dataframe to an interactive table.\"\n",
              "              style=\"display:none;\">\n",
              "        \n",
              "  <svg xmlns=\"http://www.w3.org/2000/svg\" height=\"24px\"viewBox=\"0 0 24 24\"\n",
              "       width=\"24px\">\n",
              "    <path d=\"M0 0h24v24H0V0z\" fill=\"none\"/>\n",
              "    <path d=\"M18.56 5.44l.94 2.06.94-2.06 2.06-.94-2.06-.94-.94-2.06-.94 2.06-2.06.94zm-11 1L8.5 8.5l.94-2.06 2.06-.94-2.06-.94L8.5 2.5l-.94 2.06-2.06.94zm10 10l.94 2.06.94-2.06 2.06-.94-2.06-.94-.94-2.06-.94 2.06-2.06.94z\"/><path d=\"M17.41 7.96l-1.37-1.37c-.4-.4-.92-.59-1.43-.59-.52 0-1.04.2-1.43.59L10.3 9.45l-7.72 7.72c-.78.78-.78 2.05 0 2.83L4 21.41c.39.39.9.59 1.41.59.51 0 1.02-.2 1.41-.59l7.78-7.78 2.81-2.81c.8-.78.8-2.07 0-2.86zM5.41 20L4 18.59l7.72-7.72 1.47 1.35L5.41 20z\"/>\n",
              "  </svg>\n",
              "      </button>\n",
              "      \n",
              "  <style>\n",
              "    .colab-df-container {\n",
              "      display:flex;\n",
              "      flex-wrap:wrap;\n",
              "      gap: 12px;\n",
              "    }\n",
              "\n",
              "    .colab-df-convert {\n",
              "      background-color: #E8F0FE;\n",
              "      border: none;\n",
              "      border-radius: 50%;\n",
              "      cursor: pointer;\n",
              "      display: none;\n",
              "      fill: #1967D2;\n",
              "      height: 32px;\n",
              "      padding: 0 0 0 0;\n",
              "      width: 32px;\n",
              "    }\n",
              "\n",
              "    .colab-df-convert:hover {\n",
              "      background-color: #E2EBFA;\n",
              "      box-shadow: 0px 1px 2px rgba(60, 64, 67, 0.3), 0px 1px 3px 1px rgba(60, 64, 67, 0.15);\n",
              "      fill: #174EA6;\n",
              "    }\n",
              "\n",
              "    [theme=dark] .colab-df-convert {\n",
              "      background-color: #3B4455;\n",
              "      fill: #D2E3FC;\n",
              "    }\n",
              "\n",
              "    [theme=dark] .colab-df-convert:hover {\n",
              "      background-color: #434B5C;\n",
              "      box-shadow: 0px 1px 3px 1px rgba(0, 0, 0, 0.15);\n",
              "      filter: drop-shadow(0px 1px 2px rgba(0, 0, 0, 0.3));\n",
              "      fill: #FFFFFF;\n",
              "    }\n",
              "  </style>\n",
              "\n",
              "      <script>\n",
              "        const buttonEl =\n",
              "          document.querySelector('#df-0e9f630c-3110-4bc9-a02f-68f52b2f2bef button.colab-df-convert');\n",
              "        buttonEl.style.display =\n",
              "          google.colab.kernel.accessAllowed ? 'block' : 'none';\n",
              "\n",
              "        async function convertToInteractive(key) {\n",
              "          const element = document.querySelector('#df-0e9f630c-3110-4bc9-a02f-68f52b2f2bef');\n",
              "          const dataTable =\n",
              "            await google.colab.kernel.invokeFunction('convertToInteractive',\n",
              "                                                     [key], {});\n",
              "          if (!dataTable) return;\n",
              "\n",
              "          const docLinkHtml = 'Like what you see? Visit the ' +\n",
              "            '<a target=\"_blank\" href=https://colab.research.google.com/notebooks/data_table.ipynb>data table notebook</a>'\n",
              "            + ' to learn more about interactive tables.';\n",
              "          element.innerHTML = '';\n",
              "          dataTable['output_type'] = 'display_data';\n",
              "          await google.colab.output.renderOutput(dataTable, element);\n",
              "          const docLink = document.createElement('div');\n",
              "          docLink.innerHTML = docLinkHtml;\n",
              "          element.appendChild(docLink);\n",
              "        }\n",
              "      </script>\n",
              "    </div>\n",
              "  </div>\n",
              "  "
            ]
          },
          "metadata": {},
          "execution_count": 21
        }
      ]
    }
  ]
}